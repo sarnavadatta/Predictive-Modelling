{
  "nbformat": 4,
  "nbformat_minor": 0,
  "metadata": {
    "colab": {
      "provenance": [],
      "authorship_tag": "ABX9TyMPbMo8o9Z+04etAjjAObxE",
      "include_colab_link": true
    },
    "kernelspec": {
      "name": "python3",
      "display_name": "Python 3"
    },
    "language_info": {
      "name": "python"
    }
  },
  "cells": [
    {
      "cell_type": "markdown",
      "metadata": {
        "id": "view-in-github",
        "colab_type": "text"
      },
      "source": [
        "<a href=\"https://colab.research.google.com/github/sarnavadatta/Predictive-Modelling/blob/main/XGBoost_Classifier.ipynb\" target=\"_parent\"><img src=\"https://colab.research.google.com/assets/colab-badge.svg\" alt=\"Open In Colab\"/></a>"
      ]
    },
    {
      "cell_type": "code",
      "execution_count": null,
      "metadata": {
        "id": "4Vm9rJjU-dHj"
      },
      "outputs": [],
      "source": [
        "import pandas as pd\n",
        "import numpy as np\n",
        "import matplotlib.pyplot as plt\n",
        "import seaborn as sns\n",
        "\n",
        "import warnings\n",
        "warnings.filterwarnings(\"ignore\")"
      ]
    },
    {
      "cell_type": "code",
      "source": [
        "from google.colab import drive\n",
        "drive.mount('/content/drive', force_remount=True)"
      ],
      "metadata": {
        "colab": {
          "base_uri": "https://localhost:8080/"
        },
        "id": "5jz9x2Uz-ky9",
        "outputId": "cdfefa97-91fc-4456-dff1-1a544ec4cbfb"
      },
      "execution_count": null,
      "outputs": [
        {
          "output_type": "stream",
          "name": "stdout",
          "text": [
            "Mounted at /content/drive\n"
          ]
        }
      ]
    },
    {
      "cell_type": "code",
      "source": [
        "!ls '/content/drive/My Drive/DS projects/Machine Learning/XGBoost/'"
      ],
      "metadata": {
        "colab": {
          "base_uri": "https://localhost:8080/"
        },
        "id": "XyVg1dgV-w1s",
        "outputId": "132f43cd-ccd6-4632-d8a0-045f2292ba65"
      },
      "execution_count": null,
      "outputs": [
        {
          "output_type": "stream",
          "name": "stdout",
          "text": [
            "'Wholesale customers data.csv'\t'XGBoost Classifier.ipynb'  'XGBoost Regressor.ipynb'\n"
          ]
        }
      ]
    },
    {
      "cell_type": "code",
      "source": [
        "df = pd.read_csv('/content/drive/My Drive/DS projects/Machine Learning/XGBoost/Wholesale customers data.csv')\n",
        "df"
      ],
      "metadata": {
        "colab": {
          "base_uri": "https://localhost:8080/",
          "height": 424
        },
        "id": "M3GnX-WF-8tx",
        "outputId": "18076697-bc88-4853-dcfb-598567dfad52"
      },
      "execution_count": null,
      "outputs": [
        {
          "output_type": "execute_result",
          "data": {
            "text/plain": [
              "     Channel  Region  Fresh   Milk  Grocery  Frozen  Detergents_Paper  \\\n",
              "0          2       3  12669   9656     7561     214              2674   \n",
              "1          2       3   7057   9810     9568    1762              3293   \n",
              "2          2       3   6353   8808     7684    2405              3516   \n",
              "3          1       3  13265   1196     4221    6404               507   \n",
              "4          2       3  22615   5410     7198    3915              1777   \n",
              "..       ...     ...    ...    ...      ...     ...               ...   \n",
              "435        1       3  29703  12051    16027   13135               182   \n",
              "436        1       3  39228   1431      764    4510                93   \n",
              "437        2       3  14531  15488    30243     437             14841   \n",
              "438        1       3  10290   1981     2232    1038               168   \n",
              "439        1       3   2787   1698     2510      65               477   \n",
              "\n",
              "     Delicassen  \n",
              "0          1338  \n",
              "1          1776  \n",
              "2          7844  \n",
              "3          1788  \n",
              "4          5185  \n",
              "..          ...  \n",
              "435        2204  \n",
              "436        2346  \n",
              "437        1867  \n",
              "438        2125  \n",
              "439          52  \n",
              "\n",
              "[440 rows x 8 columns]"
            ],
            "text/html": [
              "\n",
              "  <div id=\"df-26edd46b-4403-4c45-9c31-edb2e380cf66\" class=\"colab-df-container\">\n",
              "    <div>\n",
              "<style scoped>\n",
              "    .dataframe tbody tr th:only-of-type {\n",
              "        vertical-align: middle;\n",
              "    }\n",
              "\n",
              "    .dataframe tbody tr th {\n",
              "        vertical-align: top;\n",
              "    }\n",
              "\n",
              "    .dataframe thead th {\n",
              "        text-align: right;\n",
              "    }\n",
              "</style>\n",
              "<table border=\"1\" class=\"dataframe\">\n",
              "  <thead>\n",
              "    <tr style=\"text-align: right;\">\n",
              "      <th></th>\n",
              "      <th>Channel</th>\n",
              "      <th>Region</th>\n",
              "      <th>Fresh</th>\n",
              "      <th>Milk</th>\n",
              "      <th>Grocery</th>\n",
              "      <th>Frozen</th>\n",
              "      <th>Detergents_Paper</th>\n",
              "      <th>Delicassen</th>\n",
              "    </tr>\n",
              "  </thead>\n",
              "  <tbody>\n",
              "    <tr>\n",
              "      <th>0</th>\n",
              "      <td>2</td>\n",
              "      <td>3</td>\n",
              "      <td>12669</td>\n",
              "      <td>9656</td>\n",
              "      <td>7561</td>\n",
              "      <td>214</td>\n",
              "      <td>2674</td>\n",
              "      <td>1338</td>\n",
              "    </tr>\n",
              "    <tr>\n",
              "      <th>1</th>\n",
              "      <td>2</td>\n",
              "      <td>3</td>\n",
              "      <td>7057</td>\n",
              "      <td>9810</td>\n",
              "      <td>9568</td>\n",
              "      <td>1762</td>\n",
              "      <td>3293</td>\n",
              "      <td>1776</td>\n",
              "    </tr>\n",
              "    <tr>\n",
              "      <th>2</th>\n",
              "      <td>2</td>\n",
              "      <td>3</td>\n",
              "      <td>6353</td>\n",
              "      <td>8808</td>\n",
              "      <td>7684</td>\n",
              "      <td>2405</td>\n",
              "      <td>3516</td>\n",
              "      <td>7844</td>\n",
              "    </tr>\n",
              "    <tr>\n",
              "      <th>3</th>\n",
              "      <td>1</td>\n",
              "      <td>3</td>\n",
              "      <td>13265</td>\n",
              "      <td>1196</td>\n",
              "      <td>4221</td>\n",
              "      <td>6404</td>\n",
              "      <td>507</td>\n",
              "      <td>1788</td>\n",
              "    </tr>\n",
              "    <tr>\n",
              "      <th>4</th>\n",
              "      <td>2</td>\n",
              "      <td>3</td>\n",
              "      <td>22615</td>\n",
              "      <td>5410</td>\n",
              "      <td>7198</td>\n",
              "      <td>3915</td>\n",
              "      <td>1777</td>\n",
              "      <td>5185</td>\n",
              "    </tr>\n",
              "    <tr>\n",
              "      <th>...</th>\n",
              "      <td>...</td>\n",
              "      <td>...</td>\n",
              "      <td>...</td>\n",
              "      <td>...</td>\n",
              "      <td>...</td>\n",
              "      <td>...</td>\n",
              "      <td>...</td>\n",
              "      <td>...</td>\n",
              "    </tr>\n",
              "    <tr>\n",
              "      <th>435</th>\n",
              "      <td>1</td>\n",
              "      <td>3</td>\n",
              "      <td>29703</td>\n",
              "      <td>12051</td>\n",
              "      <td>16027</td>\n",
              "      <td>13135</td>\n",
              "      <td>182</td>\n",
              "      <td>2204</td>\n",
              "    </tr>\n",
              "    <tr>\n",
              "      <th>436</th>\n",
              "      <td>1</td>\n",
              "      <td>3</td>\n",
              "      <td>39228</td>\n",
              "      <td>1431</td>\n",
              "      <td>764</td>\n",
              "      <td>4510</td>\n",
              "      <td>93</td>\n",
              "      <td>2346</td>\n",
              "    </tr>\n",
              "    <tr>\n",
              "      <th>437</th>\n",
              "      <td>2</td>\n",
              "      <td>3</td>\n",
              "      <td>14531</td>\n",
              "      <td>15488</td>\n",
              "      <td>30243</td>\n",
              "      <td>437</td>\n",
              "      <td>14841</td>\n",
              "      <td>1867</td>\n",
              "    </tr>\n",
              "    <tr>\n",
              "      <th>438</th>\n",
              "      <td>1</td>\n",
              "      <td>3</td>\n",
              "      <td>10290</td>\n",
              "      <td>1981</td>\n",
              "      <td>2232</td>\n",
              "      <td>1038</td>\n",
              "      <td>168</td>\n",
              "      <td>2125</td>\n",
              "    </tr>\n",
              "    <tr>\n",
              "      <th>439</th>\n",
              "      <td>1</td>\n",
              "      <td>3</td>\n",
              "      <td>2787</td>\n",
              "      <td>1698</td>\n",
              "      <td>2510</td>\n",
              "      <td>65</td>\n",
              "      <td>477</td>\n",
              "      <td>52</td>\n",
              "    </tr>\n",
              "  </tbody>\n",
              "</table>\n",
              "<p>440 rows × 8 columns</p>\n",
              "</div>\n",
              "    <div class=\"colab-df-buttons\">\n",
              "\n",
              "  <div class=\"colab-df-container\">\n",
              "    <button class=\"colab-df-convert\" onclick=\"convertToInteractive('df-26edd46b-4403-4c45-9c31-edb2e380cf66')\"\n",
              "            title=\"Convert this dataframe to an interactive table.\"\n",
              "            style=\"display:none;\">\n",
              "\n",
              "  <svg xmlns=\"http://www.w3.org/2000/svg\" height=\"24px\" viewBox=\"0 -960 960 960\">\n",
              "    <path d=\"M120-120v-720h720v720H120Zm60-500h600v-160H180v160Zm220 220h160v-160H400v160Zm0 220h160v-160H400v160ZM180-400h160v-160H180v160Zm440 0h160v-160H620v160ZM180-180h160v-160H180v160Zm440 0h160v-160H620v160Z\"/>\n",
              "  </svg>\n",
              "    </button>\n",
              "\n",
              "  <style>\n",
              "    .colab-df-container {\n",
              "      display:flex;\n",
              "      gap: 12px;\n",
              "    }\n",
              "\n",
              "    .colab-df-convert {\n",
              "      background-color: #E8F0FE;\n",
              "      border: none;\n",
              "      border-radius: 50%;\n",
              "      cursor: pointer;\n",
              "      display: none;\n",
              "      fill: #1967D2;\n",
              "      height: 32px;\n",
              "      padding: 0 0 0 0;\n",
              "      width: 32px;\n",
              "    }\n",
              "\n",
              "    .colab-df-convert:hover {\n",
              "      background-color: #E2EBFA;\n",
              "      box-shadow: 0px 1px 2px rgba(60, 64, 67, 0.3), 0px 1px 3px 1px rgba(60, 64, 67, 0.15);\n",
              "      fill: #174EA6;\n",
              "    }\n",
              "\n",
              "    .colab-df-buttons div {\n",
              "      margin-bottom: 4px;\n",
              "    }\n",
              "\n",
              "    [theme=dark] .colab-df-convert {\n",
              "      background-color: #3B4455;\n",
              "      fill: #D2E3FC;\n",
              "    }\n",
              "\n",
              "    [theme=dark] .colab-df-convert:hover {\n",
              "      background-color: #434B5C;\n",
              "      box-shadow: 0px 1px 3px 1px rgba(0, 0, 0, 0.15);\n",
              "      filter: drop-shadow(0px 1px 2px rgba(0, 0, 0, 0.3));\n",
              "      fill: #FFFFFF;\n",
              "    }\n",
              "  </style>\n",
              "\n",
              "    <script>\n",
              "      const buttonEl =\n",
              "        document.querySelector('#df-26edd46b-4403-4c45-9c31-edb2e380cf66 button.colab-df-convert');\n",
              "      buttonEl.style.display =\n",
              "        google.colab.kernel.accessAllowed ? 'block' : 'none';\n",
              "\n",
              "      async function convertToInteractive(key) {\n",
              "        const element = document.querySelector('#df-26edd46b-4403-4c45-9c31-edb2e380cf66');\n",
              "        const dataTable =\n",
              "          await google.colab.kernel.invokeFunction('convertToInteractive',\n",
              "                                                    [key], {});\n",
              "        if (!dataTable) return;\n",
              "\n",
              "        const docLinkHtml = 'Like what you see? Visit the ' +\n",
              "          '<a target=\"_blank\" href=https://colab.research.google.com/notebooks/data_table.ipynb>data table notebook</a>'\n",
              "          + ' to learn more about interactive tables.';\n",
              "        element.innerHTML = '';\n",
              "        dataTable['output_type'] = 'display_data';\n",
              "        await google.colab.output.renderOutput(dataTable, element);\n",
              "        const docLink = document.createElement('div');\n",
              "        docLink.innerHTML = docLinkHtml;\n",
              "        element.appendChild(docLink);\n",
              "      }\n",
              "    </script>\n",
              "  </div>\n",
              "\n",
              "\n",
              "<div id=\"df-314a9285-ecd8-4c54-830b-23666ae6d41c\">\n",
              "  <button class=\"colab-df-quickchart\" onclick=\"quickchart('df-314a9285-ecd8-4c54-830b-23666ae6d41c')\"\n",
              "            title=\"Suggest charts\"\n",
              "            style=\"display:none;\">\n",
              "\n",
              "<svg xmlns=\"http://www.w3.org/2000/svg\" height=\"24px\"viewBox=\"0 0 24 24\"\n",
              "     width=\"24px\">\n",
              "    <g>\n",
              "        <path d=\"M19 3H5c-1.1 0-2 .9-2 2v14c0 1.1.9 2 2 2h14c1.1 0 2-.9 2-2V5c0-1.1-.9-2-2-2zM9 17H7v-7h2v7zm4 0h-2V7h2v10zm4 0h-2v-4h2v4z\"/>\n",
              "    </g>\n",
              "</svg>\n",
              "  </button>\n",
              "\n",
              "<style>\n",
              "  .colab-df-quickchart {\n",
              "      --bg-color: #E8F0FE;\n",
              "      --fill-color: #1967D2;\n",
              "      --hover-bg-color: #E2EBFA;\n",
              "      --hover-fill-color: #174EA6;\n",
              "      --disabled-fill-color: #AAA;\n",
              "      --disabled-bg-color: #DDD;\n",
              "  }\n",
              "\n",
              "  [theme=dark] .colab-df-quickchart {\n",
              "      --bg-color: #3B4455;\n",
              "      --fill-color: #D2E3FC;\n",
              "      --hover-bg-color: #434B5C;\n",
              "      --hover-fill-color: #FFFFFF;\n",
              "      --disabled-bg-color: #3B4455;\n",
              "      --disabled-fill-color: #666;\n",
              "  }\n",
              "\n",
              "  .colab-df-quickchart {\n",
              "    background-color: var(--bg-color);\n",
              "    border: none;\n",
              "    border-radius: 50%;\n",
              "    cursor: pointer;\n",
              "    display: none;\n",
              "    fill: var(--fill-color);\n",
              "    height: 32px;\n",
              "    padding: 0;\n",
              "    width: 32px;\n",
              "  }\n",
              "\n",
              "  .colab-df-quickchart:hover {\n",
              "    background-color: var(--hover-bg-color);\n",
              "    box-shadow: 0 1px 2px rgba(60, 64, 67, 0.3), 0 1px 3px 1px rgba(60, 64, 67, 0.15);\n",
              "    fill: var(--button-hover-fill-color);\n",
              "  }\n",
              "\n",
              "  .colab-df-quickchart-complete:disabled,\n",
              "  .colab-df-quickchart-complete:disabled:hover {\n",
              "    background-color: var(--disabled-bg-color);\n",
              "    fill: var(--disabled-fill-color);\n",
              "    box-shadow: none;\n",
              "  }\n",
              "\n",
              "  .colab-df-spinner {\n",
              "    border: 2px solid var(--fill-color);\n",
              "    border-color: transparent;\n",
              "    border-bottom-color: var(--fill-color);\n",
              "    animation:\n",
              "      spin 1s steps(1) infinite;\n",
              "  }\n",
              "\n",
              "  @keyframes spin {\n",
              "    0% {\n",
              "      border-color: transparent;\n",
              "      border-bottom-color: var(--fill-color);\n",
              "      border-left-color: var(--fill-color);\n",
              "    }\n",
              "    20% {\n",
              "      border-color: transparent;\n",
              "      border-left-color: var(--fill-color);\n",
              "      border-top-color: var(--fill-color);\n",
              "    }\n",
              "    30% {\n",
              "      border-color: transparent;\n",
              "      border-left-color: var(--fill-color);\n",
              "      border-top-color: var(--fill-color);\n",
              "      border-right-color: var(--fill-color);\n",
              "    }\n",
              "    40% {\n",
              "      border-color: transparent;\n",
              "      border-right-color: var(--fill-color);\n",
              "      border-top-color: var(--fill-color);\n",
              "    }\n",
              "    60% {\n",
              "      border-color: transparent;\n",
              "      border-right-color: var(--fill-color);\n",
              "    }\n",
              "    80% {\n",
              "      border-color: transparent;\n",
              "      border-right-color: var(--fill-color);\n",
              "      border-bottom-color: var(--fill-color);\n",
              "    }\n",
              "    90% {\n",
              "      border-color: transparent;\n",
              "      border-bottom-color: var(--fill-color);\n",
              "    }\n",
              "  }\n",
              "</style>\n",
              "\n",
              "  <script>\n",
              "    async function quickchart(key) {\n",
              "      const quickchartButtonEl =\n",
              "        document.querySelector('#' + key + ' button');\n",
              "      quickchartButtonEl.disabled = true;  // To prevent multiple clicks.\n",
              "      quickchartButtonEl.classList.add('colab-df-spinner');\n",
              "      try {\n",
              "        const charts = await google.colab.kernel.invokeFunction(\n",
              "            'suggestCharts', [key], {});\n",
              "      } catch (error) {\n",
              "        console.error('Error during call to suggestCharts:', error);\n",
              "      }\n",
              "      quickchartButtonEl.classList.remove('colab-df-spinner');\n",
              "      quickchartButtonEl.classList.add('colab-df-quickchart-complete');\n",
              "    }\n",
              "    (() => {\n",
              "      let quickchartButtonEl =\n",
              "        document.querySelector('#df-314a9285-ecd8-4c54-830b-23666ae6d41c button');\n",
              "      quickchartButtonEl.style.display =\n",
              "        google.colab.kernel.accessAllowed ? 'block' : 'none';\n",
              "    })();\n",
              "  </script>\n",
              "</div>\n",
              "\n",
              "  <div id=\"id_cf41f4d3-bc88-4319-bc35-bb692b41fade\">\n",
              "    <style>\n",
              "      .colab-df-generate {\n",
              "        background-color: #E8F0FE;\n",
              "        border: none;\n",
              "        border-radius: 50%;\n",
              "        cursor: pointer;\n",
              "        display: none;\n",
              "        fill: #1967D2;\n",
              "        height: 32px;\n",
              "        padding: 0 0 0 0;\n",
              "        width: 32px;\n",
              "      }\n",
              "\n",
              "      .colab-df-generate:hover {\n",
              "        background-color: #E2EBFA;\n",
              "        box-shadow: 0px 1px 2px rgba(60, 64, 67, 0.3), 0px 1px 3px 1px rgba(60, 64, 67, 0.15);\n",
              "        fill: #174EA6;\n",
              "      }\n",
              "\n",
              "      [theme=dark] .colab-df-generate {\n",
              "        background-color: #3B4455;\n",
              "        fill: #D2E3FC;\n",
              "      }\n",
              "\n",
              "      [theme=dark] .colab-df-generate:hover {\n",
              "        background-color: #434B5C;\n",
              "        box-shadow: 0px 1px 3px 1px rgba(0, 0, 0, 0.15);\n",
              "        filter: drop-shadow(0px 1px 2px rgba(0, 0, 0, 0.3));\n",
              "        fill: #FFFFFF;\n",
              "      }\n",
              "    </style>\n",
              "    <button class=\"colab-df-generate\" onclick=\"generateWithVariable('df')\"\n",
              "            title=\"Generate code using this dataframe.\"\n",
              "            style=\"display:none;\">\n",
              "\n",
              "  <svg xmlns=\"http://www.w3.org/2000/svg\" height=\"24px\"viewBox=\"0 0 24 24\"\n",
              "       width=\"24px\">\n",
              "    <path d=\"M7,19H8.4L18.45,9,17,7.55,7,17.6ZM5,21V16.75L18.45,3.32a2,2,0,0,1,2.83,0l1.4,1.43a1.91,1.91,0,0,1,.58,1.4,1.91,1.91,0,0,1-.58,1.4L9.25,21ZM18.45,9,17,7.55Zm-12,3A5.31,5.31,0,0,0,4.9,8.1,5.31,5.31,0,0,0,1,6.5,5.31,5.31,0,0,0,4.9,4.9,5.31,5.31,0,0,0,6.5,1,5.31,5.31,0,0,0,8.1,4.9,5.31,5.31,0,0,0,12,6.5,5.46,5.46,0,0,0,6.5,12Z\"/>\n",
              "  </svg>\n",
              "    </button>\n",
              "    <script>\n",
              "      (() => {\n",
              "      const buttonEl =\n",
              "        document.querySelector('#id_cf41f4d3-bc88-4319-bc35-bb692b41fade button.colab-df-generate');\n",
              "      buttonEl.style.display =\n",
              "        google.colab.kernel.accessAllowed ? 'block' : 'none';\n",
              "\n",
              "      buttonEl.onclick = () => {\n",
              "        google.colab.notebook.generateWithVariable('df');\n",
              "      }\n",
              "      })();\n",
              "    </script>\n",
              "  </div>\n",
              "\n",
              "    </div>\n",
              "  </div>\n"
            ],
            "application/vnd.google.colaboratory.intrinsic+json": {
              "type": "dataframe",
              "variable_name": "df",
              "summary": "{\n  \"name\": \"df\",\n  \"rows\": 440,\n  \"fields\": [\n    {\n      \"column\": \"Channel\",\n      \"properties\": {\n        \"dtype\": \"number\",\n        \"std\": 0,\n        \"min\": 1,\n        \"max\": 2,\n        \"num_unique_values\": 2,\n        \"samples\": [\n          1,\n          2\n        ],\n        \"semantic_type\": \"\",\n        \"description\": \"\"\n      }\n    },\n    {\n      \"column\": \"Region\",\n      \"properties\": {\n        \"dtype\": \"number\",\n        \"std\": 0,\n        \"min\": 1,\n        \"max\": 3,\n        \"num_unique_values\": 3,\n        \"samples\": [\n          3,\n          1\n        ],\n        \"semantic_type\": \"\",\n        \"description\": \"\"\n      }\n    },\n    {\n      \"column\": \"Fresh\",\n      \"properties\": {\n        \"dtype\": \"number\",\n        \"std\": 12647,\n        \"min\": 3,\n        \"max\": 112151,\n        \"num_unique_values\": 433,\n        \"samples\": [\n          21117,\n          20398\n        ],\n        \"semantic_type\": \"\",\n        \"description\": \"\"\n      }\n    },\n    {\n      \"column\": \"Milk\",\n      \"properties\": {\n        \"dtype\": \"number\",\n        \"std\": 7380,\n        \"min\": 55,\n        \"max\": 73498,\n        \"num_unique_values\": 421,\n        \"samples\": [\n          8384,\n          7184\n        ],\n        \"semantic_type\": \"\",\n        \"description\": \"\"\n      }\n    },\n    {\n      \"column\": \"Grocery\",\n      \"properties\": {\n        \"dtype\": \"number\",\n        \"std\": 9503,\n        \"min\": 3,\n        \"max\": 92780,\n        \"num_unique_values\": 430,\n        \"samples\": [\n          5160,\n          3\n        ],\n        \"semantic_type\": \"\",\n        \"description\": \"\"\n      }\n    },\n    {\n      \"column\": \"Frozen\",\n      \"properties\": {\n        \"dtype\": \"number\",\n        \"std\": 4854,\n        \"min\": 25,\n        \"max\": 60869,\n        \"num_unique_values\": 426,\n        \"samples\": [\n          269,\n          7530\n        ],\n        \"semantic_type\": \"\",\n        \"description\": \"\"\n      }\n    },\n    {\n      \"column\": \"Detergents_Paper\",\n      \"properties\": {\n        \"dtype\": \"number\",\n        \"std\": 4767,\n        \"min\": 3,\n        \"max\": 40827,\n        \"num_unique_values\": 417,\n        \"samples\": [\n          302,\n          6740\n        ],\n        \"semantic_type\": \"\",\n        \"description\": \"\"\n      }\n    },\n    {\n      \"column\": \"Delicassen\",\n      \"properties\": {\n        \"dtype\": \"number\",\n        \"std\": 2820,\n        \"min\": 3,\n        \"max\": 47943,\n        \"num_unique_values\": 403,\n        \"samples\": [\n          14472,\n          172\n        ],\n        \"semantic_type\": \"\",\n        \"description\": \"\"\n      }\n    }\n  ]\n}"
            }
          },
          "metadata": {},
          "execution_count": 9
        }
      ]
    },
    {
      "cell_type": "markdown",
      "source": [
        "Overview:\n",
        "The dataset includes a **Channel** variable that categorizes customers based on their purchasing behavior. This variable contains two distinct values:\n",
        "\n",
        "- **1** → Horeca (Hotel/Retail/Café) Customers  \n",
        "- **2** → Retail Channel (Nominal) Customers  \n",
        "\n",
        "These values are used to classify customers into their respective channels, allowing the model to learn patterns and make accurate predictions.\n"
      ],
      "metadata": {
        "id": "La0AV6rfCdgT"
      }
    },
    {
      "cell_type": "code",
      "source": [
        "df.shape"
      ],
      "metadata": {
        "colab": {
          "base_uri": "https://localhost:8080/"
        },
        "id": "s3Oj9hQL_KxJ",
        "outputId": "3578cdee-4028-44c2-c4ad-378832d83e8f"
      },
      "execution_count": null,
      "outputs": [
        {
          "output_type": "execute_result",
          "data": {
            "text/plain": [
              "(440, 8)"
            ]
          },
          "metadata": {},
          "execution_count": 6
        }
      ]
    },
    {
      "cell_type": "code",
      "source": [
        "df.info()"
      ],
      "metadata": {
        "colab": {
          "base_uri": "https://localhost:8080/"
        },
        "id": "aEcG1tZ9AD6G",
        "outputId": "968f9e92-d927-401d-96ec-5f072b2ff817"
      },
      "execution_count": null,
      "outputs": [
        {
          "output_type": "stream",
          "name": "stdout",
          "text": [
            "<class 'pandas.core.frame.DataFrame'>\n",
            "RangeIndex: 440 entries, 0 to 439\n",
            "Data columns (total 8 columns):\n",
            " #   Column            Non-Null Count  Dtype\n",
            "---  ------            --------------  -----\n",
            " 0   Channel           440 non-null    int64\n",
            " 1   Region            440 non-null    int64\n",
            " 2   Fresh             440 non-null    int64\n",
            " 3   Milk              440 non-null    int64\n",
            " 4   Grocery           440 non-null    int64\n",
            " 5   Frozen            440 non-null    int64\n",
            " 6   Detergents_Paper  440 non-null    int64\n",
            " 7   Delicassen        440 non-null    int64\n",
            "dtypes: int64(8)\n",
            "memory usage: 27.6 KB\n"
          ]
        }
      ]
    },
    {
      "cell_type": "markdown",
      "source": [
        "Check for missing values"
      ],
      "metadata": {
        "id": "7KHacTF4C3cF"
      }
    },
    {
      "cell_type": "code",
      "source": [
        "df.isnull().sum()"
      ],
      "metadata": {
        "colab": {
          "base_uri": "https://localhost:8080/",
          "height": 335
        },
        "id": "d9Z7ga8ECY8k",
        "outputId": "f56b7996-3374-4714-a187-aebf76d408ac"
      },
      "execution_count": null,
      "outputs": [
        {
          "output_type": "execute_result",
          "data": {
            "text/plain": [
              "Channel             0\n",
              "Region              0\n",
              "Fresh               0\n",
              "Milk                0\n",
              "Grocery             0\n",
              "Frozen              0\n",
              "Detergents_Paper    0\n",
              "Delicassen          0\n",
              "dtype: int64"
            ],
            "text/html": [
              "<div>\n",
              "<style scoped>\n",
              "    .dataframe tbody tr th:only-of-type {\n",
              "        vertical-align: middle;\n",
              "    }\n",
              "\n",
              "    .dataframe tbody tr th {\n",
              "        vertical-align: top;\n",
              "    }\n",
              "\n",
              "    .dataframe thead th {\n",
              "        text-align: right;\n",
              "    }\n",
              "</style>\n",
              "<table border=\"1\" class=\"dataframe\">\n",
              "  <thead>\n",
              "    <tr style=\"text-align: right;\">\n",
              "      <th></th>\n",
              "      <th>0</th>\n",
              "    </tr>\n",
              "  </thead>\n",
              "  <tbody>\n",
              "    <tr>\n",
              "      <th>Channel</th>\n",
              "      <td>0</td>\n",
              "    </tr>\n",
              "    <tr>\n",
              "      <th>Region</th>\n",
              "      <td>0</td>\n",
              "    </tr>\n",
              "    <tr>\n",
              "      <th>Fresh</th>\n",
              "      <td>0</td>\n",
              "    </tr>\n",
              "    <tr>\n",
              "      <th>Milk</th>\n",
              "      <td>0</td>\n",
              "    </tr>\n",
              "    <tr>\n",
              "      <th>Grocery</th>\n",
              "      <td>0</td>\n",
              "    </tr>\n",
              "    <tr>\n",
              "      <th>Frozen</th>\n",
              "      <td>0</td>\n",
              "    </tr>\n",
              "    <tr>\n",
              "      <th>Detergents_Paper</th>\n",
              "      <td>0</td>\n",
              "    </tr>\n",
              "    <tr>\n",
              "      <th>Delicassen</th>\n",
              "      <td>0</td>\n",
              "    </tr>\n",
              "  </tbody>\n",
              "</table>\n",
              "</div><br><label><b>dtype:</b> int64</label>"
            ]
          },
          "metadata": {},
          "execution_count": 11
        }
      ]
    },
    {
      "cell_type": "markdown",
      "source": [
        "**Feature & Target Variable**"
      ],
      "metadata": {
        "id": "gD1nEz_HDAUx"
      }
    },
    {
      "cell_type": "code",
      "source": [
        "X = df.drop('Channel', axis=1)\n",
        "y = df['Channel']"
      ],
      "metadata": {
        "id": "a116vfXcC6WW"
      },
      "execution_count": null,
      "outputs": []
    },
    {
      "cell_type": "markdown",
      "source": [
        "Convert the 'Channel' into 0 and 1 for further analysis."
      ],
      "metadata": {
        "id": "GuAEkajqDNuB"
      }
    },
    {
      "cell_type": "code",
      "source": [
        "y[y == 2] = 0\n",
        "y[y == 1] = 1\n",
        "\n",
        "y.head()"
      ],
      "metadata": {
        "colab": {
          "base_uri": "https://localhost:8080/",
          "height": 241
        },
        "id": "8KQIlL6SDM8D",
        "outputId": "9114f1a2-5dab-4296-bff8-9e2b0cd9f573"
      },
      "execution_count": null,
      "outputs": [
        {
          "output_type": "execute_result",
          "data": {
            "text/plain": [
              "0    0\n",
              "1    0\n",
              "2    0\n",
              "3    1\n",
              "4    0\n",
              "Name: Channel, dtype: int64"
            ],
            "text/html": [
              "<div>\n",
              "<style scoped>\n",
              "    .dataframe tbody tr th:only-of-type {\n",
              "        vertical-align: middle;\n",
              "    }\n",
              "\n",
              "    .dataframe tbody tr th {\n",
              "        vertical-align: top;\n",
              "    }\n",
              "\n",
              "    .dataframe thead th {\n",
              "        text-align: right;\n",
              "    }\n",
              "</style>\n",
              "<table border=\"1\" class=\"dataframe\">\n",
              "  <thead>\n",
              "    <tr style=\"text-align: right;\">\n",
              "      <th></th>\n",
              "      <th>Channel</th>\n",
              "    </tr>\n",
              "  </thead>\n",
              "  <tbody>\n",
              "    <tr>\n",
              "      <th>0</th>\n",
              "      <td>0</td>\n",
              "    </tr>\n",
              "    <tr>\n",
              "      <th>1</th>\n",
              "      <td>0</td>\n",
              "    </tr>\n",
              "    <tr>\n",
              "      <th>2</th>\n",
              "      <td>0</td>\n",
              "    </tr>\n",
              "    <tr>\n",
              "      <th>3</th>\n",
              "      <td>1</td>\n",
              "    </tr>\n",
              "    <tr>\n",
              "      <th>4</th>\n",
              "      <td>0</td>\n",
              "    </tr>\n",
              "  </tbody>\n",
              "</table>\n",
              "</div><br><label><b>dtype:</b> int64</label>"
            ]
          },
          "metadata": {},
          "execution_count": 13
        }
      ]
    },
    {
      "cell_type": "markdown",
      "source": [
        "Train Test Split"
      ],
      "metadata": {
        "id": "9GR59fpjKEge"
      }
    },
    {
      "cell_type": "code",
      "source": [
        "from sklearn.model_selection import train_test_split\n",
        "X_train, X_test, y_train, y_test = train_test_split(X, y, test_size=0.25, random_state=0)"
      ],
      "metadata": {
        "id": "dZUDrFBgDq4q"
      },
      "execution_count": null,
      "outputs": []
    },
    {
      "cell_type": "markdown",
      "source": [
        "Create separate **DMatrix** for training and testing.\n",
        "\n",
        "\n",
        "*   xgb.DMatrix is an optimized data structure used by XGBoost for training.\n",
        "*   It efficiently stores features and labels, reducing memory usage and improving computation speed.\n",
        "*   This transformation is particularly useful for handling missing values and optimizing matrix operations.\n",
        "\n",
        "\n",
        "\n"
      ],
      "metadata": {
        "id": "hg3cmOe6KcGD"
      }
    },
    {
      "cell_type": "code",
      "source": [
        "import xgboost as xgb\n",
        "\n",
        "dtrain_clf = xgb.DMatrix(data=X_train, label=y_train)\n",
        "dtest_clf = xgb.DMatrix(data=X_test, label=y_test)"
      ],
      "metadata": {
        "id": "fugeyy4_KPfG"
      },
      "execution_count": null,
      "outputs": []
    },
    {
      "cell_type": "markdown",
      "source": [
        "### **Train XGBoost Classifier**\n",
        "\n",
        "### Parameters:\n",
        "The model is configured with the following hyperparameters:\n",
        "- **objective**: `'binary:logistic'` → Specifies that this is a binary classification problem.\n",
        "- **max_depth**: `4` → Limits the depth of each decision tree to prevent overfitting.\n",
        "- **alpha**: `10` → L1 regularization term to reduce model complexity.\n",
        "- **learning_rate**: `1.0` → Controls how much each tree contributes to the final prediction (higher values lead to faster learning but risk overshooting).\n",
        "- **n_estimators**: `100` → Number of boosting rounds (trees).\n",
        "\n",
        "### Training Process:\n",
        "The model is trained using `xgb.train()` with:\n",
        "- **Training Data (`dtrain_clf`)** → Used to build the model.\n",
        "- **Test Data (`dtest_clf`)** → Used for evaluation.\n",
        "- **num_boost_round=500** → The maximum number of boosting rounds (trees).\n",
        "- **evals=[(dtrain_clf, 'train'), (dtest_clf, 'test')]** → Enables monitoring of model performance on both training and test sets.\n",
        "- **verbose_eval=10** → Logs evaluation metrics every 10 iterations.\n",
        "- **early_stopping_rounds=10** → Stops training if the test set performance does not improve for 10 consecutive rounds.\n",
        "\n",
        "### Notes:\n",
        "- **Early stopping** prevents overfitting by stopping training when further iterations no longer improve performance.\n",
        "- The final model is selected based on the best validation performance.\n"
      ],
      "metadata": {
        "id": "cCmyvMIXLLtk"
      }
    },
    {
      "cell_type": "code",
      "source": [
        "# declare parameters\n",
        "params = {\n",
        "            'objective':'binary:logistic',\n",
        "            'max_depth': 4,\n",
        "            'alpha': 10,\n",
        "            'learning_rate': 1.0,\n",
        "            'n_estimators':100\n",
        "        }\n",
        "\n",
        "# Train the model using xgb.train()\n",
        "xgb_clf = xgb.train(\n",
        "    params=params,\n",
        "    dtrain=dtrain_clf,\n",
        "    num_boost_round=500,\n",
        "    evals=[(dtrain_clf, 'train'), (dtest_clf, 'test')],\n",
        "    verbose_eval=10,\n",
        "    early_stopping_rounds=10\n",
        ")"
      ],
      "metadata": {
        "colab": {
          "base_uri": "https://localhost:8080/"
        },
        "id": "SE1Pa-dDLBYp",
        "outputId": "49e48a7a-bb55-4571-d05e-f04140435997"
      },
      "execution_count": null,
      "outputs": [
        {
          "output_type": "stream",
          "name": "stdout",
          "text": [
            "[0]\ttrain-logloss:0.28439\ttest-logloss:0.35211\n",
            "[10]\ttrain-logloss:0.22113\ttest-logloss:0.31465\n",
            "[11]\ttrain-logloss:0.22113\ttest-logloss:0.31465\n"
          ]
        }
      ]
    },
    {
      "cell_type": "markdown",
      "source": [
        "### **Prediction Process:**\n",
        "1. **Generate Predictions:**\n",
        "   - `y_pred = xgb_clf.predict(dtest_clf)`\n",
        "   - The model outputs probabilities between 0 and 1, representing the likelihood of belonging to the positive class.\n",
        "\n",
        "2. **Convert Probabilities to Binary Predictions:**\n",
        "   - Since this is a binary classification task, probabilities are converted into class labels:\n",
        "     - `1` if the probability is **≥ 0.5**  \n",
        "     - `0` otherwise  \n",
        "\n",
        "### **Evaluation Metrics:**\n",
        "- **Accuracy Score:**  \n",
        "  - `accuracy_score(y_test, y_pred)` calculates the proportion of correctly classified instances.\n",
        "  - Printed as: `\"Accuracy:\", accuracy`\n",
        "\n",
        "- **Confusion Matrix:**  \n",
        "  - `confusion_matrix(y_test, y_pred)` provides a summary of correct and incorrect classifications:\n",
        "    - **True Positives (TP)**: Correctly predicted positive cases.\n",
        "    - **True Negatives (TN)**: Correctly predicted negative cases.\n",
        "    - **False Positives (FP)**: Incorrectly predicted positive cases.\n",
        "    - **False Negatives (FN)**: Incorrectly predicted negative cases.\n"
      ],
      "metadata": {
        "id": "ufue9ibrNd8Y"
      }
    },
    {
      "cell_type": "code",
      "source": [
        "# prompt: Make predictions with XGBoost Classifier\n",
        "\n",
        "y_pred = xgb_clf.predict(dtest_clf)\n",
        "\n",
        "# # Convert probabilities to binary predictions (0 or 1)\n",
        "y_pred = [1 if pred >= 0.5 else 0 for pred in y_pred]\n",
        "\n",
        "from sklearn.metrics import accuracy_score, confusion_matrix\n",
        "# Evaluate the classifier\n",
        "accuracy = accuracy_score(y_test, y_pred)\n",
        "print(\"Accuracy:\", accuracy)\n",
        "cm = confusion_matrix(y_test, y_pred)\n",
        "print(\"Confusion Matrix:\\n\", cm)\n"
      ],
      "metadata": {
        "colab": {
          "base_uri": "https://localhost:8080/"
        },
        "id": "aF79xSwSNYNO",
        "outputId": "fc80a5c0-e2b9-4763-ce0b-58aac62d7065"
      },
      "execution_count": null,
      "outputs": [
        {
          "output_type": "stream",
          "name": "stdout",
          "text": [
            "Accuracy: 0.8727272727272727\n",
            "Confusion Matrix:\n",
            " [[30 10]\n",
            " [ 4 66]]\n"
          ]
        }
      ]
    },
    {
      "cell_type": "markdown",
      "source": [
        "# Visualize Confusion Matrix using Seaborn"
      ],
      "metadata": {
        "id": "dyBevCLuQCaR"
      }
    },
    {
      "cell_type": "code",
      "source": [
        "plt.figure(figsize=(8,6))\n",
        "sns.heatmap(cm, annot=True, fmt='d', cmap='Blues')\n",
        "plt.title('Confusion Matrix')\n",
        "plt.xlabel('Predicted')\n",
        "plt.ylabel('Actual')\n",
        "plt.show()\n"
      ],
      "metadata": {
        "colab": {
          "base_uri": "https://localhost:8080/",
          "height": 564
        },
        "id": "5Bb57fVtOOOX",
        "outputId": "440fd931-b982-453e-838c-d85143f3981e"
      },
      "execution_count": null,
      "outputs": [
        {
          "output_type": "display_data",
          "data": {
            "text/plain": [
              "<Figure size 800x600 with 2 Axes>"
            ],
            "image/png": "[encoded data removed]"
          },
          "metadata": {}
        }
      ]
    },
    {
      "cell_type": "markdown",
      "source": [
        "**K-Fold Cross Validation**"
      ],
      "metadata": {
        "id": "tPm7ZrKdRrJP"
      }
    },
    {
      "cell_type": "code",
      "source": [
        "import xgboost as xgb\n",
        "from sklearn.model_selection import StratifiedKFold\n",
        "\n",
        "# Convert data into DMatrix format\n",
        "dtrain_clf = xgb.DMatrix(data=X_train, label=y_train)\n",
        "\n",
        "# Declare parameters\n",
        "params = {\n",
        "    'objective': 'binary:logistic',\n",
        "    'max_depth': 4,\n",
        "    'alpha': 10,\n",
        "    'learning_rate': 1.0,\n",
        "    'n_estimators': 100\n",
        "}\n",
        "\n",
        "# Number of boosting rounds\n",
        "num_boost_round = 500\n",
        "\n",
        "# Number of K-folds\n",
        "n_splits = 5  # You can adjust this number as needed\n",
        "\n",
        "# Perform K-fold cross-validation using xgb.cv\n",
        "cv_results = xgb.cv(\n",
        "    params=params,\n",
        "    dtrain=dtrain_clf,\n",
        "    num_boost_round=num_boost_round,\n",
        "    nfold=n_splits,  # K-fold cross-validation\n",
        "    early_stopping_rounds=10,  # Stop early if no improvement\n",
        "    verbose_eval=10,  # Display progress every 10 rounds\n",
        "    metrics=\"error\"  # Evaluation metric to track (e.g., 'error' for classification accuracy)\n",
        ")\n",
        "\n",
        "# Output the best number of boosting rounds based on cross-validation\n",
        "print(f\"Best number of boosting rounds: {cv_results.shape[0]}\")\n"
      ],
      "metadata": {
        "colab": {
          "base_uri": "https://localhost:8080/"
        },
        "id": "l9pLClp_O-tf",
        "outputId": "319c90d0-aec7-4e20-cbae-2085006db133"
      },
      "execution_count": null,
      "outputs": [
        {
          "output_type": "stream",
          "name": "stdout",
          "text": [
            "[0]\ttrain-error:0.06515+0.01207\ttest-error:0.10606+0.03833\n",
            "[9]\ttrain-error:0.06515+0.01207\ttest-error:0.10606+0.03833\n",
            "Best number of boosting rounds: 1\n"
          ]
        }
      ]
    },
    {
      "cell_type": "markdown",
      "source": [
        "XGBoost offers a method to assess the importance of each feature in the original dataset by evaluating how frequently each feature is used for splitting across all the boosting trees in the model. This allows us to understand which features contribute the most to the model's decisions.\n",
        "\n",
        "The importance of features is quantified by the number of times each feature is selected for splitting, and the results can be visualized using a bar chart, with features ranked based on their frequency of occurrence.\n",
        "\n",
        "To facilitate this, XGBoost provides the `plot_importance()` function, which enables us to visualize the features that have the highest importance scores. This feature of XGBoost not only aids in understanding the model but also serves as a tool for **feature selection**, helping to identify and focus on the most relevant features for the model.\n",
        "\n"
      ],
      "metadata": {
        "id": "liM_U3FuSU_6"
      }
    },
    {
      "cell_type": "code",
      "source": [
        "xgb.plot_importance(xgb_clf)\n",
        "plt.rcParams['figure.figsize'] = [6, 4]\n",
        "plt.show()"
      ],
      "metadata": {
        "colab": {
          "base_uri": "https://localhost:8080/",
          "height": 410
        },
        "id": "hjT8yEhlRxMD",
        "outputId": "91b12ecc-380d-4237-d459-00ad39a3a868"
      },
      "execution_count": null,
      "outputs": [
        {
          "output_type": "display_data",
          "data": {
            "text/plain": [
              "<Figure size 600x400 with 1 Axes>"
            ],
            "image/png": "[encoded data removed]"
          },
          "metadata": {}
        }
      ]
    },
    {
      "cell_type": "code",
      "source": [],
      "metadata": {
        "id": "u5JGs6PFSJUD"
      },
      "execution_count": null,
      "outputs": []
    }
  ]
}